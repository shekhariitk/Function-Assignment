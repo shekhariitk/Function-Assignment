{
  "nbformat": 4,
  "nbformat_minor": 0,
  "metadata": {
    "colab": {
      "provenance": []
    },
    "kernelspec": {
      "name": "python3",
      "display_name": "Python 3"
    },
    "language_info": {
      "name": "python"
    }
  },
  "cells": [
    {
      "cell_type": "markdown",
      "source": [
        "Theory questions"
      ],
      "metadata": {
        "id": "qhu6WJ36qs-q"
      }
    },
    {
      "cell_type": "code",
      "source": [
        "# Q1) What is the difference between a function and a method in Python?\n",
        "'''In Python, the terms \"function\" and \"method\" refer to different concepts, though they are related.\n",
        "\n",
        "Function:\n",
        "A function is a standalone block of reusable code that performs a specific task. It can take inputs (arguments) and return outputs (values).\n",
        "Functions are defined using the def keyword and can be called independently of any object.\n",
        "\n",
        "Example:'''\n",
        "def add(a, b):\n",
        "    return a + b\n",
        "\n",
        "result = add(3, 5)  # Calls the function\n",
        "\n",
        "\n",
        "''' Method :\n",
        "A method is similar to a function but is associated with an object. Methods are defined within a class and typically operate on the data contained in that class (the instance).\n",
        "Methods are called on objects using the dot notation.\n",
        "\n",
        "Example:'''\n",
        "class Calculator:\n",
        "    def add(self, a, b):\n",
        "        return a + b\n",
        "\n",
        "calc = Calculator()\n",
        "result = calc.add(3, 5)  # Calls the method on the calc object\n"
      ],
      "metadata": {
        "id": "VFyXa83IrWrR"
      },
      "execution_count": 1,
      "outputs": []
    },
    {
      "cell_type": "code",
      "source": [
        "# Q2) Explain the concept of function arguments and parameters in Python ?\n",
        "\n",
        "'''In Python, parameters and arguments are key concepts related to functions that help you pass data into them.\n",
        "\n",
        " *Parameters\n",
        "Parameters are the variables listed in the function definition. They act as placeholders for the values that you will pass to the function when you call it.\n",
        "You define parameters within the parentheses of a function declaration.\n",
        "Example:'''\n",
        "\n",
        "def greet(name):  # 'name' is a parameter\n",
        "    print(f\"Hello, {name}!\")\n",
        "\n",
        "'''\n",
        "**Arguments\n",
        "Arguments are the actual values that you pass to the function when you call it. These values are assigned to the corresponding parameters.\n",
        "Example:\n",
        "'''\n",
        "greet(\"Alice\")  # \"Alice\" is the argument passed to the function\n",
        "\n",
        "'''\n",
        "Types of Arguments\n",
        "*Positional Arguments: These are passed to the function in the order of the parameters defined.\n",
        "'''\n",
        "\n",
        "def add(a, b):\n",
        "    return a + b\n",
        "\n",
        "result = add(2, 3)  # 2 is 'a', 3 is 'b'\n",
        "'''\n",
        "**Keyword Arguments: You can specify the parameter name when calling the function, allowing you to pass arguments in any order.\n",
        "\n",
        "\n",
        "result = add(b=3, a=2)  # The order does not matter\n",
        "\n",
        "'''\n",
        "'''\n",
        "***Default Arguments: You can assign default values to parameters. If no argument is provided for that parameter, the default value is used.\n",
        "'''\n",
        "def greet(name=\"Guest\"):\n",
        "    print(f\"Hello, {name}!\")\n",
        "\n",
        "greet()  # Uses default value \"Guest\"\n",
        "\n",
        "'''\n",
        "****Variable-Length Arguments: You can use *args for a variable number of positional arguments and **kwargs for a variable number of keyword arguments.\n",
        "\n",
        "'''\n",
        "def add(*args):\n",
        "    return sum(args)\n",
        "\n",
        "result = add(1, 2, 3, 4)  # Can accept any number of arguments"
      ],
      "metadata": {
        "id": "Ke5FrkXisOV7"
      },
      "execution_count": null,
      "outputs": []
    },
    {
      "cell_type": "code",
      "source": [
        "# Q3) What are the different ways to define and call a function in Python?\n",
        "\n",
        "'''In Python, there are several ways to define and call functions, each offering different capabilities. Here’s an overview of the most common methods:\n",
        "\n",
        "1. Basic Function Definition\n",
        "You can define a simple function using the def keyword.\n",
        "\n",
        "'''\n",
        "def greet(name):\n",
        "    print(f\"Hello, {name}!\")\n",
        "\n",
        "# Calling the function\n",
        "greet(\"Alice\")\n",
        "\n",
        "'''\n",
        "2. Function with Return Value\n",
        "Functions can return values using the return statement.\n",
        "\n",
        "'''\n",
        "def add(a, b):\n",
        "    return a + b\n",
        "\n",
        "# Calling the function and storing the result\n",
        "result = add(3, 5)\n",
        "print(result)\n",
        "'''\n",
        "3. Default Parameter Values\n",
        "You can define functions with default parameter values.\n",
        "\n",
        "'''\n",
        "def greet(name=\"Guest\"):\n",
        "    print(f\"Hello, {name}!\")\n",
        "\n",
        "# Calling the function with and without an argument\n",
        "greet()          # Uses default\n",
        "greet(\"Bob\")    # Uses provided argument\n",
        "'''\n",
        "4. Keyword Arguments\n",
        "You can call functions using keyword arguments to specify which parameters to use.\n",
        "\n",
        "'''\n",
        "def describe_person(name, age):\n",
        "    print(f\"{name} is {age} years old.\")\n",
        "\n",
        "# Calling the function with keyword arguments\n",
        "describe_person(age=30, name=\"Alice\")\n",
        "\n",
        "'''\n",
        "5. Variable-Length Arguments\n",
        "You can use *args to accept a variable number of positional arguments and **kwargs for variable-length keyword arguments.\n",
        "\n",
        "'''\n",
        "def add(*args):\n",
        "    return sum(args)\n",
        "\n",
        "# Calling the function with multiple arguments\n",
        "result = add(1, 2, 3, 4)\n",
        "print(result)\n",
        "\n",
        "def print_info(**kwargs):\n",
        "    for key, value in kwargs.items():\n",
        "        print(f\"{key}: {value}\")\n",
        "\n",
        "# Calling the function with keyword arguments\n",
        "print_info(name=\"Alice\", age=30, city=\"New York\")\n",
        "\n",
        "'''\n",
        "6. Lambda Functions\n",
        "For short, one-liner functions, you can use lambda expressions.\n",
        "\n",
        "'''\n",
        "square = lambda x: x ** 2\n",
        "\n",
        "# Calling the lambda function\n",
        "print(square(5))\n",
        "\n",
        "'''\n",
        "7. Nested Functions\n",
        "You can define a function inside another function.\n",
        "\n",
        "'''\n",
        "def outer_function():\n",
        "    def inner_function():\n",
        "        print(\"This is the inner function.\")\n",
        "    inner_function()\n",
        "\n",
        "# Calling the outer function\n",
        "outer_function()"
      ],
      "metadata": {
        "colab": {
          "base_uri": "https://localhost:8080/"
        },
        "id": "jFLdKv_9t5Eb",
        "outputId": "bf7a13fe-9b88-43f4-e733-96b62cb4a2e1"
      },
      "execution_count": 3,
      "outputs": [
        {
          "output_type": "stream",
          "name": "stdout",
          "text": [
            "Hello, Alice!\n",
            "Hello, Guest!\n",
            "Hello, Bob!\n",
            "Alice is 30 years old.\n",
            "10\n",
            "name: Alice\n",
            "age: 30\n",
            "city: New York\n",
            "25\n",
            "This is the inner function.\n"
          ]
        }
      ]
    },
    {
      "cell_type": "code",
      "source": [
        "# Q4) What is the purpose of the `return` statement in a Python function?\n",
        "'''The return statement in a Python function serves several important purposes:\n",
        "\n",
        "1. Exiting the Function\n",
        "When the return statement is executed, it immediately exits the function. Any code following the return statement within the function will not be executed.\n",
        "2. Sending Back a Value\n",
        "The primary purpose of the return statement is to send a value back to the caller. This value can be of any data type (e.g., integer, string, list, object).\n",
        "Example:\n",
        "'''\n",
        "def add(a, b):\n",
        "    return a + b\n",
        "\n",
        "result = add(3, 5)  # result will be 8\n",
        "\n",
        "'''\n",
        "3. Multiple Return Statements\n",
        "A function can have multiple return statements, which allows it to return different values based on conditions.\n",
        "Example:\n",
        "'''\n",
        "def check_number(num):\n",
        "    if num > 0:\n",
        "        return \"Positive\"\n",
        "    elif num < 0:\n",
        "        return \"Negative\"\n",
        "    else:\n",
        "        return \"Zero\"\n",
        "\n",
        "result = check_number(-5)  # result will be \"Negative\"\n",
        "\n",
        "'''\n",
        "4. Returning None\n",
        "If a function does not have a return statement or reaches the end without hitting a return, it will return None by default.\n",
        "Example:\n",
        "'''\n",
        "def no_return():\n",
        "    pass\n",
        "\n",
        "result = no_return()  # result will be None"
      ],
      "metadata": {
        "id": "xOdcWzAZvCnw"
      },
      "execution_count": 4,
      "outputs": []
    },
    {
      "cell_type": "code",
      "source": [
        "# Q5) What are iterators in Python and how do they differ from iterables?\n",
        "\n",
        "'''In Python, iterators and iterables are closely related concepts used to work with sequences of data, but they serve different roles in the iteration process.\n",
        "\n",
        "Iterables\n",
        "An iterable is any Python object that can return an iterator. Examples include lists, tuples, dictionaries, sets, and strings.\n",
        "\n",
        "Iterables implement the __iter__() method, which returns an iterator.\n",
        "\n",
        "You can use the for loop or functions like list() to iterate over an iterable.\n",
        "\n",
        "Example:\n",
        "'''\n",
        "my_list = [1, 2, 3]\n",
        "for item in my_list:\n",
        "    print(item)\n",
        "'''\n",
        "Iterators\n",
        "An iterator is an object that represents a stream of data and allows you to traverse through that data one element at a time.\n",
        "Iterators implement two methods: __iter__() and __next__().\n",
        "__iter__() returns the iterator object itself.\n",
        "__next__() returns the next value from the iterator and raises a StopIteration exception when there are no more values to return.\n",
        "Example:\n",
        "\n",
        "'''\n",
        "my_iter = iter(my_list)  # Create an iterator from the iterable\n",
        "print(next(my_iter))  # Outputs: 1\n",
        "print(next(my_iter))  # Outputs: 2\n",
        "print(next(my_iter))  # Outputs: 3\n",
        "# next(my_iter) would raise StopIteration\n",
        "'''\n",
        "Key Differences\n",
        "*Definition:\n",
        "\n",
        "Iterable: An object that can be iterated over (e.g., a list).\n",
        "Iterator: An object that is used to iterate through an iterable, keeping track of the current position.\n",
        "**Methods:\n",
        "\n",
        "Iterable: Must implement __iter__() method.\n",
        "Iterator: Must implement both __iter__() and __next__() methods.\n",
        "***State:\n",
        "\n",
        "An iterable does not maintain any state about the iteration.\n",
        "An iterator maintains its state (e.g., the current position in the sequence).\n",
        "'''"
      ],
      "metadata": {
        "id": "E5diQpd2wAFR"
      },
      "execution_count": null,
      "outputs": []
    },
    {
      "cell_type": "code",
      "source": [
        "# Q6) Explain the concept of generators in Python and how they are defined.\n",
        "\n",
        "'''Generators in Python are a special type of iterator that allow you to iterate over a sequence of values without storing the entire sequence in memory. They are defined using a function that includes one or more yield statements instead of a return statement.\n",
        "\n",
        "Key Features of Generators\n",
        "*Lazy Evaluation:\n",
        "Generators produce values on-the-fly, which means they only compute the next value when requested. This is memory efficient, especially for large datasets.\n",
        "\n",
        "**State Retention:\n",
        "When a generator function is called, it does not execute its body immediately. Instead, it returns a generator object, which can be used to execute the function incrementally. Each time the next() function is called on the generator, execution resumes from where it last left off, maintaining its local state.\n",
        "\n",
        "***Easy to Define:\n",
        "\n",
        "Generators are defined just like regular functions, but instead of using return, you use yield.\n",
        "How to Define a Generator\n",
        "Here’s an example of how to define and use a generator:\n",
        "\n",
        "Example 1: Simple Generator\n",
        "'''\n",
        "def count_up_to(max):\n",
        "    count = 1\n",
        "    while count <= max:\n",
        "        yield count  # Yield the current count\n",
        "        count += 1   # Increment count\n",
        "\n",
        "# Create a generator object\n",
        "counter = count_up_to(5)\n",
        "\n",
        "# Iterate through the generator\n",
        "for number in counter:\n",
        "    print(number)\n",
        "'''\n",
        "Use Cases\n",
        "Generators are particularly useful when:\n",
        "\n",
        "You need to process large datasets or streams of data that don't fit into memory.\n",
        "You want to create infinite sequences, like generating Fibonacci numbers.\n",
        "Example 2: Infinite Generator\n",
        "'''\n",
        "def infinite_count():\n",
        "    count = 0\n",
        "    while True:\n",
        "        yield count  # This will never stop yielding\n",
        "        count += 1\n",
        "\n",
        "# Use the generator\n",
        "gen = infinite_count()\n",
        "for _ in range(5):\n",
        "    print(next(gen))"
      ],
      "metadata": {
        "id": "9XGejA_UwsCi"
      },
      "execution_count": null,
      "outputs": []
    },
    {
      "cell_type": "code",
      "source": [
        "# Q7) What are the advantages of using generators over regular functions?\n",
        "\n",
        "'''Generators offer several advantages over regular functions, particularly when dealing with large datasets or when you need to produce a sequence of values. Here are some key benefits:\n",
        "\n",
        "1. Memory Efficiency\n",
        "Lazy Evaluation: Generators produce values one at a time and only when needed, which means they don’t require the entire dataset to be stored in memory. This is especially useful for large datasets or infinite sequences.\n",
        "\n",
        "2. Simpler Code for Iteration\n",
        "Readable and Concise: Using yield in a generator function can make the code simpler and cleaner compared to managing state with loops and return values in a traditional function.\n",
        "\n",
        "3. State Retention\n",
        "Maintaining State: Generators automatically keep track of their state between successive calls, allowing for easy implementation of complex iteration logic without having to manage state manually.\n",
        "\n",
        "4. Infinite Sequences\n",
        "Handling Infinite Streams: Generators can easily represent infinite sequences (e.g., Fibonacci numbers) because they only compute values as they are requested. Regular functions would need to return a collection, which is not feasible for infinite sequences.\n",
        "\n",
        "5. Pipeline Processing\n",
        "Chaining Generators: Generators can be easily composed or chained together to create a processing pipeline. This allows for efficient data processing flows where each generator processes data step-by-step.\n",
        "\n",
        "6. Improved Performance\n",
        "Reduced Overhead: Since generators do not require the allocation of memory for all values at once, they can lead to better performance in certain contexts, particularly in I/O-bound applications.\n",
        "Example Comparison\n",
        "Here’s a simple comparison to illustrate some of these advantages:\n",
        "\n",
        "Regular Function\n",
        "'''\n",
        "def generate_squares(n):\n",
        "    squares = []\n",
        "    for i in range(n):\n",
        "        squares.append(i * i)\n",
        "    return squares\n",
        "\n",
        "# Calling the function\n",
        "squares_list = generate_squares(10)  # Generates all squares at once\n",
        "'''\n",
        "Generator Function\n",
        "\n",
        "'''\n",
        "def generate_squares(n):\n",
        "    for i in range(n):\n",
        "        yield i * i  # Yield one square at a time\n",
        "\n",
        "# Using the generator\n",
        "for square in generate_squares(10):  # Generates squares on-the-fly\n",
        "    print(square)"
      ],
      "metadata": {
        "id": "8YosMFZYxl8r"
      },
      "execution_count": null,
      "outputs": []
    },
    {
      "cell_type": "code",
      "source": [
        "# Q8) What is a lambda function in Python and when is it typically used?\n",
        "''' A lambda function in Python is a small, anonymous function defined using the lambda keyword. Unlike regular functions defined with def, lambda functions can take any number of arguments but can only have a single expression. The expression is evaluated and returned.\n",
        "\n",
        "Syntax\n",
        "The syntax for a lambda function is:\n",
        "\n",
        "'''\n",
        "#lambda arguments: expression\n",
        "\n",
        "'''\n",
        "Characteristics\n",
        "Anonymous: Lambda functions do not have a name unless you assign them to a variable.\n",
        "Single Expression: They can only contain a single expression, making them suitable for simple operations.\n",
        "Return Value: The result of the expression is automatically returned without needing a return statement.\n",
        "Example of a Lambda Function\n",
        "'''\n",
        "\n",
        "# A simple lambda function to add two numbers\n",
        "add = lambda x, y: x + y\n",
        "result = add(3, 5)  # result is 8\n",
        "\n",
        "'''\n",
        "Typical Use Cases\n",
        "Lambda functions are typically used in the following scenarios:\n",
        "\n",
        "As Arguments to Higher-Order Functions:\n",
        "\n",
        "Lambda functions are often used as arguments to functions like map(), filter(), and sorted(), where a simple function is needed.\n",
        "'''\n",
        "# Using lambda with map\n",
        "numbers = [1, 2, 3, 4]\n",
        "squares = list(map(lambda x: x ** 2, numbers))  # [1, 4, 9, 16]\n",
        "'''\n",
        "In Sorting Operations:\n",
        "\n",
        "Lambda functions are useful for defining custom sorting criteria.\n",
        "\n",
        "'''\n",
        "points = [(2, 3), (1, 2), (4, 1)]\n",
        "sorted_points = sorted(points, key=lambda point: point[1])  # Sort by y-coordinate\n",
        "'''\n",
        "For Simple Functions:\n",
        "\n",
        "When you need a quick, simple function without the overhead of defining a full function using def.\n",
        "'''\n",
        "# A lambda function for checking even numbers\n",
        "is_even = lambda x: x % 2 == 0\n",
        "'''\n",
        "In Data Analysis Libraries:\n",
        "\n",
        "Lambda functions are commonly used in libraries like Pandas for data manipulation and transformation.\n",
        "'''\n",
        "import pandas as pd\n",
        "\n",
        "df = pd.DataFrame({'A': [1, 2, 3]})\n",
        "df['B'] = df['A'].apply(lambda x: x * 2)  # Create a new column B"
      ],
      "metadata": {
        "id": "N0rBGDgMyvJQ"
      },
      "execution_count": 8,
      "outputs": []
    },
    {
      "cell_type": "code",
      "source": [
        "# Q9) Explain the purpose and usage of the `map()` function in Python?\n",
        "'''The map() function in Python is a built-in higher-order function that allows you to apply a given function to all items in an iterable (like a list or tuple) and returns an iterator (map object) of the results. This is a convenient way to transform or process data without using explicit loops.\n",
        "\n",
        "Purpose\n",
        "The primary purpose of map() is to streamline the application of a function to each item in an iterable, making the code cleaner and more concise. It promotes a functional programming style by encouraging the use of functions as first-class citizens.\n",
        "\n",
        "Syntax\n",
        "The syntax for map() is as follows:\n",
        "'''\n",
        "\n",
        "# map(function, iterable, ...)\n",
        "\n",
        "'''\n",
        "function: A function that takes as many arguments as there are iterables (but at least one). This function is applied to each item in the iterable(s).\n",
        "iterable: One or more iterable objects (like lists, tuples, etc.) to which the function will be applied.\n",
        "Usage Examples\n",
        "1. Basic Usage with a Single Iterable\n",
        "Here’s an example of using map() to square each number in a list:\n",
        "\n",
        "'''\n",
        "numbers = [1, 2, 3, 4]\n",
        "squared = map(lambda x: x ** 2, numbers)\n",
        "\n",
        "# Convert to list to see the results\n",
        "squared_list = list(squared)  # [1, 4, 9, 16]\n",
        "\n",
        "'''\n",
        "2. Using a Defined Function\n",
        "You can also use a named function instead of a lambda:\n",
        "\n",
        "'''\n",
        "def square(x):\n",
        "    return x ** 2\n",
        "\n",
        "numbers = [1, 2, 3, 4]\n",
        "squared = map(square, numbers)\n",
        "\n",
        "squared_list = list(squared)  # [1, 4, 9, 16]\n",
        "'''\n",
        "3. Multiple Iterables\n",
        "map() can accept multiple iterables. In this case, the function should take as many arguments as there are iterables.\n",
        "'''\n",
        "numbers1 = [1, 2, 3]\n",
        "numbers2 = [4, 5, 6]\n",
        "\n",
        "# Adding corresponding elements of two lists\n",
        "result = map(lambda x, y: x + y, numbers1, numbers2)\n",
        "result_list = list(result)  # [5, 7, 9]"
      ],
      "metadata": {
        "id": "XDV6MUkGziq7"
      },
      "execution_count": 9,
      "outputs": []
    },
    {
      "cell_type": "code",
      "source": [
        "# Q10) What is the difference between `map()`, `reduce()`, and `filter()` functions in Python?\n",
        "\n",
        "''' map(), reduce(), and filter() are all higher-order functions in Python that operate on iterables, but they serve different purposes. Here’s a breakdown of each:\n",
        "\n",
        "1. map()\n",
        "Purpose: Applies a function to every item in an iterable (e.g., list, tuple) and returns an iterator of the results.\n",
        "Usage: Useful for transforming data by applying a specific operation to each element.\n",
        "Example:\n",
        "'''\n",
        "numbers = [1, 2, 3, 4]\n",
        "squared = map(lambda x: x ** 2, numbers)  # Squares each number\n",
        "squared_list = list(squared)  # [1, 4, 9, 16]\n",
        "\n",
        "'''\n",
        "2. filter()\n",
        "Purpose: Applies a function that returns True or False to each item in an iterable and returns an iterator of the items for which the function returned True.\n",
        "Usage: Useful for filtering elements from a collection based on a condition.\n",
        "Example:\n",
        "'''\n",
        "\n",
        "numbers = [1, 2, 3, 4, 5, 6]\n",
        "evens = filter(lambda x: x % 2 == 0, numbers)  # Filters out odd numbers\n",
        "even_list = list(evens)  # [2, 4, 6]\n",
        "\n",
        "'''\n",
        "3. reduce()\n",
        "Purpose: Applies a binary function (a function that takes two arguments) cumulatively to the items of an iterable, reducing it to a single value.\n",
        "Usage: Useful for performing a rolling computation, such as summing or multiplying all elements in a collection.\n",
        "Note: reduce() is not a built-in function in Python 3; it’s available in the functools module.\n",
        "Example:\n",
        "'''\n",
        "\n",
        "from functools import reduce\n",
        "\n",
        "numbers = [1, 2, 3, 4]\n",
        "product = reduce(lambda x, y: x * y, numbers)  # Multiplies all numbers\n",
        "# product is 24 (1 * 2 * 3 * 4)"
      ],
      "metadata": {
        "id": "rQDQz-cf0SU7"
      },
      "execution_count": 10,
      "outputs": []
    },
    {
      "cell_type": "markdown",
      "source": [
        "Practical Questions:"
      ],
      "metadata": {
        "id": "--qWgoOl1OS6"
      }
    },
    {
      "cell_type": "code",
      "source": [
        "# Q1)1. Write a Python function that takes a list of numbers as input and returns the sum of all even numbers in that list\n",
        "\n",
        "def sum_of_evens(numbers):\n",
        "    # Using a generator expression to sum even numbers\n",
        "    return sum(num for num in numbers if num % 2 == 0)\n",
        "\n",
        "# Example usage\n",
        "numbers = [1, 2, 3, 4, 5, 6]\n",
        "result = sum_of_evens(numbers)\n",
        "print(result)  # Output: 12 (2 + 4 + 6)\n"
      ],
      "metadata": {
        "colab": {
          "base_uri": "https://localhost:8080/"
        },
        "id": "_pRBBcd61T4k",
        "outputId": "8a87ce4b-0eff-4b84-9fbc-59998ef61b8d"
      },
      "execution_count": 11,
      "outputs": [
        {
          "output_type": "stream",
          "name": "stdout",
          "text": [
            "12\n"
          ]
        }
      ]
    },
    {
      "cell_type": "code",
      "source": [
        "# Q2) Create a Python function that accepts a string and returns the reverse of that string?\n",
        "\n",
        "def reverse_string(s):\n",
        "    return s[::-1]\n",
        "\n",
        "# Example usage\n",
        "input_string = \"Hello, World!\"\n",
        "reversed_string = reverse_string(input_string)\n",
        "print(reversed_string)  # Output: !dlroW ,olleH\n"
      ],
      "metadata": {
        "colab": {
          "base_uri": "https://localhost:8080/"
        },
        "id": "Xgd7ldBa2H46",
        "outputId": "4bdb3f6c-cddb-4400-c8b3-1847b4a7b060"
      },
      "execution_count": 12,
      "outputs": [
        {
          "output_type": "stream",
          "name": "stdout",
          "text": [
            "!dlroW ,olleH\n"
          ]
        }
      ]
    },
    {
      "cell_type": "code",
      "source": [
        "# Q3) Implement a Python function that takes a list of integers and returns a new list containing the squares of each number\n",
        "\n",
        "def square_numbers(numbers):\n",
        "    return [num ** 2 for num in numbers]\n",
        "\n",
        "# Example usage\n",
        "input_list = [1, 2, 3, 4, 5]\n",
        "squared_list = square_numbers(input_list)\n",
        "print(squared_list)  # Output: [1, 4, 9, 16, 25]\n"
      ],
      "metadata": {
        "colab": {
          "base_uri": "https://localhost:8080/"
        },
        "id": "j4klGHSF2WsK",
        "outputId": "b31487fd-0c1f-4f59-eeb6-608476ab23dd"
      },
      "execution_count": 13,
      "outputs": [
        {
          "output_type": "stream",
          "name": "stdout",
          "text": [
            "[1, 4, 9, 16, 25]\n"
          ]
        }
      ]
    },
    {
      "cell_type": "code",
      "source": [
        "# Q4) Write a Python function that checks if a given number is prime or not from 1 to 200 ?\n",
        "\n",
        "def is_prime(num):\n",
        "    if num < 2 or num > 200:\n",
        "        return False  # Not a prime number if out of range\n",
        "\n",
        "    for i in range(2, int(num**0.5) + 1):\n",
        "        if num % i == 0:\n",
        "            return False  # Found a divisor, so it's not prime\n",
        "\n",
        "    return True  # No divisors found, so it is prime\n",
        "\n",
        "# Example usage\n",
        "number = 29\n",
        "if is_prime(number):\n",
        "    print(f\"{number} is a prime number.\")\n",
        "else:\n",
        "    print(f\"{number} is not a prime number.\")\n"
      ],
      "metadata": {
        "colab": {
          "base_uri": "https://localhost:8080/"
        },
        "id": "1RNgmXXb2o6t",
        "outputId": "6d0cdd4a-c8c3-4102-8f1a-55764d12ea75"
      },
      "execution_count": 14,
      "outputs": [
        {
          "output_type": "stream",
          "name": "stdout",
          "text": [
            "29 is a prime number.\n"
          ]
        }
      ]
    },
    {
      "cell_type": "code",
      "source": [
        "# Q5)  Create an iterator class in Python that generates the Fibonacci sequence up to a specified number of terms ?\n",
        "class FibonacciIterator:\n",
        "    def __init__(self, n):\n",
        "        self.n = n  # Number of terms to generate\n",
        "        self.a, self.b = 0, 1  # Initial Fibonacci numbers\n",
        "        self.count = 0  # Counter to keep track of terms generated\n",
        "\n",
        "    def __iter__(self):\n",
        "        return self\n",
        "\n",
        "    def __next__(self):\n",
        "        if self.count < self.n:\n",
        "            fib_number = self.a\n",
        "            self.a, self.b = self.b, self.a + self.b  # Update to the next Fibonacci numbers\n",
        "            self.count += 1\n",
        "            return fib_number\n",
        "        else:\n",
        "            raise StopIteration  # Stop iteration when n terms are generated\n",
        "\n",
        "# Example usage\n",
        "fibonacci_terms = 10\n",
        "fib_iterator = FibonacciIterator(fibonacci_terms)\n",
        "\n",
        "for number in fib_iterator:\n",
        "    print(number)\n",
        "\n"
      ],
      "metadata": {
        "id": "xY8NhGf-4Sxt"
      },
      "execution_count": null,
      "outputs": []
    },
    {
      "cell_type": "code",
      "source": [
        "# Q6) Write a generator function in Python that yields the powers of 2 up to a given exponent.\n",
        "\n",
        "def powers_of_two(exponent):\n",
        "    for i in range(exponent + 1):\n",
        "        yield 2 ** i  # Yield 2 raised to the power of i\n",
        "\n",
        "# Example usage\n",
        "exponent = 5\n",
        "for power in powers_of_two(exponent):\n",
        "    print(power)\n"
      ],
      "metadata": {
        "id": "4zXxfm0f4z4o"
      },
      "execution_count": null,
      "outputs": []
    },
    {
      "cell_type": "code",
      "source": [
        "# Q7) Implement a generator function that reads a file line by line and yields each line as a string?\n",
        "def read_file_lines(file_path):\n",
        "    with open(file_path, 'r') as file:\n",
        "        for line in file:\n",
        "            yield line.strip()  # Yield each line without leading/trailing whitespace\n",
        "\n",
        "# Example usage\n",
        "file_path = 'example.txt'  # Replace with your file path\n",
        "for line in read_file_lines(file_path):\n",
        "    print(line)\n"
      ],
      "metadata": {
        "id": "BusZd5ja5P7U"
      },
      "execution_count": null,
      "outputs": []
    },
    {
      "cell_type": "code",
      "source": [
        "# Q8) Use a lambda function in Python to sort a list of tuples based on the second element of each tuple?\n",
        "# List of tuples\n",
        "data = [(1, 'apple'), (3, 'banana'), (2, 'cherry')]\n",
        "\n",
        "# Sort using a lambda function based on the second element\n",
        "sorted_data = sorted(data, key=lambda x: x[1])\n",
        "\n",
        "# Print the sorted list\n",
        "print(sorted_data)\n"
      ],
      "metadata": {
        "id": "YVcutqrY5b_P"
      },
      "execution_count": null,
      "outputs": []
    },
    {
      "cell_type": "code",
      "source": [
        "# Q9) Write a Python program that uses `map()` to convert a list of temperatures from Celsius to Fahrenheit.\n",
        "# List of temperatures in Celsius\n",
        "celsius_temps = [0, 20, 37, 100]\n",
        "\n",
        "# Convert to Fahrenheit using map and a lambda function\n",
        "fahrenheit_temps = list(map(lambda c: (c * 9/5) + 32, celsius_temps))\n",
        "\n",
        "# Print the converted temperatures\n",
        "print(fahrenheit_temps)\n"
      ],
      "metadata": {
        "id": "oZwTTKnu6ITM"
      },
      "execution_count": null,
      "outputs": []
    },
    {
      "cell_type": "code",
      "source": [
        "# Q10)  Create a Python program that uses `filter()` to remove all the vowels from a given string ?\n",
        "\n",
        "# Function to check for vowels\n",
        "def is_not_vowel(char):\n",
        "    return char.lower() not in 'aeiou'\n",
        "\n",
        "# Given string\n",
        "input_string = \"Hello, World!\"\n",
        "\n",
        "# Filter out vowels\n",
        "filtered_string = ''.join(filter(is_not_vowel, input_string))\n",
        "\n",
        "# Print the result\n",
        "print(filtered_string)  # Output: \"Hll, Wrld!\"\n"
      ],
      "metadata": {
        "id": "SXzjlYeq6TwA"
      },
      "execution_count": null,
      "outputs": []
    }
  ]
}